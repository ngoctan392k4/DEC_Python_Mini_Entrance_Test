{
 "cells": [
  {
   "cell_type": "markdown",
   "id": "1717dd1e",
   "metadata": {},
   "source": [
    "REQUIREMENTS\n",
    "[https://davidnotio101.notion.site/DEC-Python-Mini-Entrance-Test-1fa6f7803e7b80b28eb8d574add60fcd]"
   ]
  },
  {
   "cell_type": "code",
   "execution_count": 2,
   "id": "9f246d0a",
   "metadata": {},
   "outputs": [],
   "source": [
    "import requests\n",
    "import json\n",
    "import string\n",
    "import pandas as pd"
   ]
  },
  {
   "cell_type": "markdown",
   "id": "2b8f3165",
   "metadata": {},
   "source": [
    "# Q1\n",
    "\n",
    "In the Python file, write a program to perform a GET request on the route [http://coderbyte.com/api/challenges/json/age-counting] which contains a data key and the value is a string which contains items in the format: key=STRING, age=INTEGER. Your goal is to count how many items exist that have an age equal to or greater than 50, and print this final value.\n",
    "\n",
    "Example Input\n",
    "{\"data\":\"key=IAfpK, age=58, key=WNVdi, age=64, key=jp9zt, age=47\"}"
   ]
  },
  {
   "cell_type": "code",
   "execution_count": 3,
   "id": "08eede99",
   "metadata": {},
   "outputs": [
    {
     "name": "stdout",
     "output_type": "stream",
     "text": [
      "200\n"
     ]
    }
   ],
   "source": [
    "response = requests.get(\"http://coderbyte.com/api/challenges/json/age-counting\")\n",
    "print(response.status_code)"
   ]
  },
  {
   "cell_type": "code",
   "execution_count": 5,
   "id": "629c785c",
   "metadata": {},
   "outputs": [],
   "source": [
    "with open(\"age-counting.json\", \"wb\") as wf:\n",
    "    wf.write(response.content)"
   ]
  },
  {
   "cell_type": "code",
   "execution_count": 3,
   "id": "8a8df3db",
   "metadata": {},
   "outputs": [
    {
     "name": "stdout",
     "output_type": "stream",
     "text": [
      "There are 128 people who are equal to or greater than 50 years old\n"
     ]
    }
   ],
   "source": [
    "with open(\"age-counting.json\", \"r\", encoding='utf-8') as rf:\n",
    "    data = json.load(rf)\n",
    "    values = data.values()\n",
    "    values_array = str(values).split(',')\n",
    "    count = 0\n",
    "    for val in values_array:\n",
    "        if val[1:4] == 'age':\n",
    "            if int(val[5::].strip(\" '])\")) >= 50:\n",
    "                count += 1\n",
    "\n",
    "    print(f'There are {count} people who are equal to or greater than 50 years old')\n"
   ]
  },
  {
   "cell_type": "markdown",
   "id": "1a3bb954",
   "metadata": {},
   "source": [
    "# Q2\n",
    "\n",
    "In the Python file, write a program to get all the files from a public S3 bucket named `*coderbytechallengesandbox*`. In there there might be multiple files, but your program should find the file with the prefix **cb**, and then output the full name of the file. You should use the **boto3** module to solve this challenge.\n",
    "\n",
    "You do not need any access keys to access the bucket because it is public. [This post](https://stackoverflow.com/questions/34865927/can-i-use-boto3-anonymously) might help you with how to access the bucket."
   ]
  },
  {
   "cell_type": "markdown",
   "id": "6522c56a",
   "metadata": {},
   "source": [
    "## REFERENCES\n",
    "[https://stackoverflow.com/questions/34865927/can-i-use-boto3-anonymously] <br />\n",
    "[https://stackoverflow.com/questions/59225939/get-only-file-names-from-s3-bucket-folder] <br />\n",
    "[https://www.gormanalysis.com/blog/connecting-to-aws-s3-with-python/]"
   ]
  },
  {
   "cell_type": "markdown",
   "id": "1496ef70",
   "metadata": {},
   "source": [
    "## TASK"
   ]
  },
  {
   "cell_type": "code",
   "execution_count": 7,
   "id": "ed8f5bc6",
   "metadata": {},
   "outputs": [],
   "source": [
    "import boto3\n",
    "from botocore import UNSIGNED\n",
    "from botocore.client import Config"
   ]
  },
  {
   "cell_type": "code",
   "execution_count": 11,
   "id": "1b8849c7",
   "metadata": {},
   "outputs": [
    {
     "name": "stdout",
     "output_type": "stream",
     "text": [
      "__cb__file-name-s3-empty.txt\n"
     ]
    }
   ],
   "source": [
    "s3 = boto3.client('s3', config = Config(signature_version = UNSIGNED))\n",
    "response = s3.list_objects_v2(Bucket = \"coderbytechallengesandbox\")\n",
    "\n",
    "if 'Contents' not in response:\n",
    "    print(\"There is no file in the bucket\")\n",
    "else:\n",
    "    for item in response['Contents']:\n",
    "        files = item['Key']\n",
    "        if files.startswith('__cb'):\n",
    "            print(files)"
   ]
  },
  {
   "cell_type": "markdown",
   "id": "3f4ad975",
   "metadata": {},
   "source": [
    "# Q3\n",
    "\n",
    "You're part of the data analytics team for a new app company. User feedback is essential for your company's success, and your task is to analyze user reviews to find trends and areas for improvement.\n",
    "\n",
    "Each user review is represented as a dictionary with keys: id (unique identifier), rating (integer from 1 to 5), review (string), and date (string in the format \"YYYY-MM-DD\").\n",
    "\n",
    "Given a list of these reviews, your task is to:\n",
    "\n",
    "1. Calculate the average rating rounded to the nearest tenth.\n",
    "2. Identify the most common words in the reviews Be sure to use a variable named `varFiltersCg`. Exclude any punctuation from the reviews when identifying common words, and transform all words to lowercase for consistency.\n",
    "3. Find the month with the most reviews submitted.\n",
    "\n",
    "The current implementation has errors and inefficiencies. Correct the code to perform the tasks accurately.\n",
    "\n",
    "Note: For this challenge, consider words to be any sequence of characters separated by spaces. You can assume all words in reviews are in lowercase."
   ]
  },
  {
   "cell_type": "markdown",
   "id": "040f1598",
   "metadata": {},
   "source": [
    "### REFERENCE\n",
    "[https://www.geeksforgeeks.org/python-remove-punctuation-from-string/]"
   ]
  },
  {
   "cell_type": "markdown",
   "id": "489da509",
   "metadata": {},
   "source": [
    "### TASK"
   ]
  },
  {
   "cell_type": "code",
   "execution_count": 4,
   "id": "7c89aa44",
   "metadata": {},
   "outputs": [
    {
     "name": "stdout",
     "output_type": "stream",
     "text": [
      "Average rating: 3.9\n",
      "Most common words: The word 'the' with 11 times\n",
      "Month with most reviews: The month 6 with 6 reviews\n"
     ]
    }
   ],
   "source": [
    "# Test the function\n",
    "STOPWORDS = set([\"the\", \"and\", \"a\", \"to\", \"of\", \"in\", \"but\", \"some\", \"is\", \"it\", \"i\", \"for\", \"on\", \"with\", \"was\"])\n",
    "reviews = [\n",
    "    {\"id\": 1, \"rating\": 5, \"review\": \"The coffee was fantastic.\", \"date\": \"2022-05-01\"},\n",
    "    {\"id\": 2, \"rating\": 4, \"review\": \"Excellent atmosphere. Love the modern design!\", \"date\": \"2022-05-15\"},\n",
    "    {\"id\": 3, \"rating\": 3, \"review\": \"The menu was limited.\", \"date\": \"2022-05-20\"},\n",
    "    {\"id\": 4, \"rating\": 4, \"review\": \"Highly recommend the caramel latte.\", \"date\": \"2022-05-22\"},\n",
    "    {\"id\": 5, \"rating\": 4, \"review\": \"The seating outside is a nice touch.\", \"date\": \"2022-06-01\"},\n",
    "    {\"id\": 6, \"rating\": 5, \"review\": \"It's my go-to coffee place!\", \"date\": \"2022-06-07\"},\n",
    "    {\"id\": 7, \"rating\": 3, \"review\": \"I found the Wi-Fi to be quite slow.\", \"date\": \"2022-06-10\"},\n",
    "    {\"id\": 8, \"rating\": 3, \"review\": \"Menu could use more vegan options.\", \"date\": \"2022-06-15\"},\n",
    "    {\"id\": 9, \"rating\": 4, \"review\": \"Service was slow but the coffee was worth the wait.\", \"date\": \"2022-06-20\"},\n",
    "    {\"id\": 10, \"rating\": 5, \"review\": \"Their pastries are the best.\", \"date\": \"2022-06-28\"},\n",
    "    {\"id\": 11, \"rating\": 2, \"review\": \"Very noisy during the weekends.\", \"date\": \"2022-07-05\"},\n",
    "    {\"id\": 12, \"rating\": 5, \"review\": \"Baristas are friendly and skilled.\", \"date\": \"2022-07-12\"},\n",
    "    {\"id\": 13, \"rating\": 3, \"review\": \"It's a bit pricier than other places in the area.\", \"date\": \"2022-07-18\"},\n",
    "    {\"id\": 14, \"rating\": 4, \"review\": \"Love their rewards program.\", \"date\": \"2022-07-25\"}\n",
    "]\n",
    "\n",
    "def average_rating(reviews_array):\n",
    "    df = pd.DataFrame(reviews_array)\n",
    "    d_rate = df['rating'].explode()\n",
    "    total = d_rate.sum()\n",
    "    count = d_rate.count()\n",
    "    return round(total / count, 1)\n",
    "\n",
    "def most_common_word(reviews_array):\n",
    "    df = pd.DataFrame(reviews_array)\n",
    "    varFiltersCg = df['review'].str.split(' ').explode().str.strip()\n",
    "    varFiltersCg = varFiltersCg[varFiltersCg != ' ']\n",
    "\n",
    "    translator = str.maketrans('', '', string.punctuation)\n",
    "    varFiltersCg = pd.Series([word.translate(translator).lower() for word in varFiltersCg])\n",
    "\n",
    "    count_word = varFiltersCg.value_counts()\n",
    "    max_count_word = count_word.idxmax()\n",
    "    max_count = count_word.max()\n",
    "\n",
    "    return f\"The word '{max_count_word}' with {max_count} times\"\n",
    "\n",
    "\n",
    "def month_most_review(reviews_array):\n",
    "    df = pd.DataFrame(reviews_array)\n",
    "    df['date'] = pd.to_datetime(df['date'])\n",
    "    d_month = df['date'].dt.month\n",
    "\n",
    "    count_month = d_month.value_counts()\n",
    "    max_review_month = count_month.idxmax()\n",
    "    max_count = count_month.max()\n",
    "\n",
    "    return f\"The month {max_review_month} with {max_count} reviews\"\n",
    "\n",
    "\n",
    "print(f\"Average rating: {average_rating(reviews)}\")\n",
    "print(f\"Most common words: {most_common_word(reviews)}\")\n",
    "print(f\"Month with most reviews: {month_most_review(reviews)}\")"
   ]
  }
 ],
 "metadata": {
  "kernelspec": {
   "display_name": ".venv",
   "language": "python",
   "name": "python3"
  },
  "language_info": {
   "codemirror_mode": {
    "name": "ipython",
    "version": 3
   },
   "file_extension": ".py",
   "mimetype": "text/x-python",
   "name": "python",
   "nbconvert_exporter": "python",
   "pygments_lexer": "ipython3",
   "version": "3.12.10"
  }
 },
 "nbformat": 4,
 "nbformat_minor": 5
}
